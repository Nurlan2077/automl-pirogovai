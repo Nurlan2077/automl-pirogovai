{
 "cells": [
  {
   "cell_type": "code",
   "execution_count": 13,
   "metadata": {
    "id": "Vp3gz0ikwRc-",
    "scrolled": false
   },
   "outputs": [],
   "source": [
    "import matplotlib.pyplot as plt\n",
    "import numpy as np\n",
    "import os\n",
    "import PIL\n",
    "import tensorflow as tf\n",
    "import pandas as pd\n",
    "\n",
    "from tensorflow import keras\n",
    "from tensorflow.keras import layers\n",
    "from tensorflow.keras.models import Sequential\n",
    "from utils import generate_train_val_ds, get_image_size\n",
    "from PIL import Image\n",
    "from loss_funcs import LOSS_FUNCS\n",
    "from optimizers import OPTIMIZERS\n",
    "from keras import metrics\n",
    "from sklearn.metrics import classification_report, confusion_matrix\n",
    "import seaborn as sns\n",
    "\n",
    "from loss_funcs import LOSS_FUNCS\n",
    "from optimizers import OPTIMIZERS\n",
    "# from google.colab import drive\n"
   ]
  },
  {
   "cell_type": "code",
   "execution_count": 14,
   "metadata": {
    "colab": {
     "base_uri": "https://localhost:8080/"
    },
    "id": "QX2Bahqjwj4i",
    "outputId": "b72f6b8f-c7c3-491f-c162-f6534974d6ab"
   },
   "outputs": [],
   "source": [
    "# drive.mount(\"/content/drive\")"
   ]
  },
  {
   "cell_type": "code",
   "execution_count": 15,
   "metadata": {
    "id": "BGnJOKGAxC7M"
   },
   "outputs": [],
   "source": [
    "# Сделать приём путей от сервера.\n",
    "\n",
    "# train_dir = \"/content/drive/My Drive/cervix_cancer_data/train/\"\n",
    "# test_dir = \"/content/drive/My Drive/cervix_cancer_data/test2_resized/\"\n",
    "# val_dir = \"/content/drive/My Drive/cervix_cancer_data/val/\"\n",
    "# data_dir = \"/content/drive/My Drive/cervix_cancer_data/\"\n",
    "\n",
    "train_dir = \"train/\"\n",
    "test_dir = \"test2_resized/\"\n",
    "val_dir = \"val/\"\n"
   ]
  },
  {
   "cell_type": "code",
   "execution_count": 17,
   "metadata": {},
   "outputs": [],
   "source": [
    "random_class = os.listdir(train_dir)[1]\n",
    "random_image_name = os.listdir(train_dir + random_class)[0]\n",
    "random_image = Image.open(train_dir + random_class + \"/\" + random_image_name)\n",
    "default_image_size = get_image_size(random_image)"
   ]
  },
  {
   "cell_type": "code",
   "execution_count": 18,
   "metadata": {
    "id": "2IJeEuJ7xE-h"
   },
   "outputs": [],
   "source": [
    "batch_size = 32\n",
    "img_height = default_image_size\n",
    "img_width = default_image_size"
   ]
  },
  {
   "cell_type": "code",
   "execution_count": 19,
   "metadata": {
    "colab": {
     "base_uri": "https://localhost:8080/"
    },
    "id": "a2WccUkrxlUD",
    "outputId": "934b7510-49ef-4bed-9151-c45d19c567ec"
   },
   "outputs": [],
   "source": [
    "# train_ds = tf.keras.utils.image_dataset_from_directory(\n",
    "#     train_dir, \n",
    "#     seed=123,\n",
    "#     image_size=(img_height, img_width), \n",
    "#     batch_size=batch_size\n",
    "#     )"
   ]
  },
  {
   "cell_type": "code",
   "execution_count": 20,
   "metadata": {
    "colab": {
     "base_uri": "https://localhost:8080/"
    },
    "id": "zVPlDgUjx3mi",
    "outputId": "d5c073fb-1bd8-4bba-dc18-4626e1ce63f3"
   },
   "outputs": [],
   "source": [
    "# val_ds = tf.keras.utils.image_dataset_from_directory(\n",
    "#     val_dir, \n",
    "#     seed=123,\n",
    "#     image_size=(img_height, img_width), \n",
    "#     batch_size=batch_size\n",
    "#     )"
   ]
  },
  {
   "cell_type": "code",
   "execution_count": 21,
   "metadata": {},
   "outputs": [
    {
     "name": "stdout",
     "output_type": "stream",
     "text": [
      "Found 982 files belonging to 3 classes.\n",
      "Using 786 files for training.\n"
     ]
    },
    {
     "name": "stderr",
     "output_type": "stream",
     "text": [
      "2023-02-04 17:30:56.342997: I tensorflow/core/platform/cpu_feature_guard.cc:193] This TensorFlow binary is optimized with oneAPI Deep Neural Network Library (oneDNN) to use the following CPU instructions in performance-critical operations:  AVX2 AVX512F AVX512_VNNI FMA\n",
      "To enable them in other operations, rebuild TensorFlow with the appropriate compiler flags.\n"
     ]
    },
    {
     "name": "stdout",
     "output_type": "stream",
     "text": [
      "Found 982 files belonging to 3 classes.\n",
      "Using 196 files for validation.\n"
     ]
    }
   ],
   "source": [
    "train_ds, val_ds = generate_train_val_ds(train_dir, (img_height, img_width), batch_size)"
   ]
  },
  {
   "cell_type": "code",
   "execution_count": 22,
   "metadata": {
    "colab": {
     "base_uri": "https://localhost:8080/"
    },
    "id": "jNMm9puLx095",
    "outputId": "e26132f7-3c19-449c-82eb-205032be7cde"
   },
   "outputs": [
    {
     "data": {
      "text/plain": [
       "['Type_1', 'Type_2', 'Type_3']"
      ]
     },
     "execution_count": 22,
     "metadata": {},
     "output_type": "execute_result"
    }
   ],
   "source": [
    "class_names = train_ds.class_names\n",
    "class_names"
   ]
  },
  {
   "cell_type": "code",
   "execution_count": 23,
   "metadata": {
    "id": "9m3DAEkSy_i2"
   },
   "outputs": [],
   "source": [
    "AUTOTUNE = tf.data.AUTOTUNE\n",
    "\n",
    "train_ds = train_ds.cache().shuffle(1000).prefetch(buffer_size=AUTOTUNE)\n",
    "val_ds = val_ds.cache().prefetch(buffer_size=AUTOTUNE)"
   ]
  },
  {
   "cell_type": "code",
   "execution_count": 26,
   "metadata": {
    "id": "d440jjum1HC1"
   },
   "outputs": [
    {
     "name": "stdout",
     "output_type": "stream",
     "text": [
      "WARNING:tensorflow:Using a while_loop for converting RngReadAndSkip cause there is no registered converter for this op.\n",
      "WARNING:tensorflow:Using a while_loop for converting Bitcast cause there is no registered converter for this op.\n",
      "WARNING:tensorflow:Using a while_loop for converting Bitcast cause there is no registered converter for this op.\n",
      "WARNING:tensorflow:Using a while_loop for converting StatelessRandomUniformV2 cause there is no registered converter for this op.\n",
      "WARNING:tensorflow:Using a while_loop for converting ImageProjectiveTransformV3 cause there is no registered converter for this op.\n",
      "WARNING:tensorflow:Using a while_loop for converting RngReadAndSkip cause there is no registered converter for this op.\n",
      "WARNING:tensorflow:Using a while_loop for converting Bitcast cause there is no registered converter for this op.\n",
      "WARNING:tensorflow:Using a while_loop for converting Bitcast cause there is no registered converter for this op.\n",
      "WARNING:tensorflow:Using a while_loop for converting StatelessRandomUniformV2 cause there is no registered converter for this op.\n",
      "WARNING:tensorflow:Using a while_loop for converting ImageProjectiveTransformV3 cause there is no registered converter for this op.\n"
     ]
    }
   ],
   "source": [
    "data_augmentation = keras.Sequential(\n",
    "  [\n",
    "    layers.RandomFlip(\"horizontal\",\n",
    "                      input_shape=(img_height,\n",
    "                                  img_width,\n",
    "                                  3)),\n",
    "    layers.RandomRotation(0.1),\n",
    "    layers.RandomZoom(0.1),\n",
    "  ]\n",
    ")"
   ]
  },
  {
   "cell_type": "code",
   "execution_count": 27,
   "metadata": {
    "id": "Q2D3dUyby_zC"
   },
   "outputs": [],
   "source": [
    "num_classes = len(class_names)\n",
    "\n",
    "sequential_layers = [\n",
    "  data_augmentation,\n",
    "  layers.Rescaling(1./255),\n",
    "  layers.Conv2D(16, 3, padding='same', activation='relu'),\n",
    "  layers.MaxPooling2D(),\n",
    "  layers.Conv2D(32, 3, padding='same', activation='relu'),\n",
    "  layers.MaxPooling2D(),\n",
    "  layers.Conv2D(64, 3, padding='same', activation='relu'),\n",
    "  layers.MaxPooling2D(),\n",
    "  layers.Dropout(0.2),\n",
    "  layers.Flatten(),\n",
    "  layers.Dense(128, activation='relu'),\n",
    "  layers.Dense(num_classes, name=\"outputs\")\n",
    "]"
   ]
  },
  {
   "cell_type": "code",
   "execution_count": 51,
   "metadata": {},
   "outputs": [
    {
     "name": "stdout",
     "output_type": "stream",
     "text": [
      "Adam sparse_categorical_crossentropy\n",
      "WARNING:tensorflow:Using a while_loop for converting RngReadAndSkip cause there is no registered converter for this op.\n",
      "WARNING:tensorflow:Using a while_loop for converting Bitcast cause there is no registered converter for this op.\n",
      "WARNING:tensorflow:Using a while_loop for converting Bitcast cause there is no registered converter for this op.\n",
      "WARNING:tensorflow:Using a while_loop for converting StatelessRandomUniformV2 cause there is no registered converter for this op.\n",
      "WARNING:tensorflow:Using a while_loop for converting ImageProjectiveTransformV3 cause there is no registered converter for this op.\n",
      "WARNING:tensorflow:Using a while_loop for converting RngReadAndSkip cause there is no registered converter for this op.\n",
      "WARNING:tensorflow:Using a while_loop for converting Bitcast cause there is no registered converter for this op.\n",
      "WARNING:tensorflow:Using a while_loop for converting Bitcast cause there is no registered converter for this op.\n",
      "WARNING:tensorflow:Using a while_loop for converting StatelessRandomUniformV2 cause there is no registered converter for this op.\n",
      "WARNING:tensorflow:Using a while_loop for converting ImageProjectiveTransformV3 cause there is no registered converter for this op.\n",
      "Epoch 1/10\n",
      "WARNING:tensorflow:Using a while_loop for converting RngReadAndSkip cause there is no registered converter for this op.\n",
      "WARNING:tensorflow:Using a while_loop for converting Bitcast cause there is no registered converter for this op.\n",
      "WARNING:tensorflow:Using a while_loop for converting Bitcast cause there is no registered converter for this op.\n",
      "WARNING:tensorflow:Using a while_loop for converting StatelessRandomUniformV2 cause there is no registered converter for this op.\n",
      "WARNING:tensorflow:Using a while_loop for converting ImageProjectiveTransformV3 cause there is no registered converter for this op.\n",
      "WARNING:tensorflow:Using a while_loop for converting RngReadAndSkip cause there is no registered converter for this op.\n",
      "WARNING:tensorflow:Using a while_loop for converting Bitcast cause there is no registered converter for this op.\n",
      "WARNING:tensorflow:Using a while_loop for converting Bitcast cause there is no registered converter for this op.\n",
      "WARNING:tensorflow:Using a while_loop for converting StatelessRandomUniformV2 cause there is no registered converter for this op.\n",
      "WARNING:tensorflow:Using a while_loop for converting ImageProjectiveTransformV3 cause there is no registered converter for this op.\n",
      "WARNING:tensorflow:Using a while_loop for converting RngReadAndSkip cause there is no registered converter for this op.\n",
      "WARNING:tensorflow:Using a while_loop for converting Bitcast cause there is no registered converter for this op.\n",
      "WARNING:tensorflow:Using a while_loop for converting Bitcast cause there is no registered converter for this op.\n",
      "WARNING:tensorflow:Using a while_loop for converting StatelessRandomUniformV2 cause there is no registered converter for this op.\n",
      "WARNING:tensorflow:Using a while_loop for converting ImageProjectiveTransformV3 cause there is no registered converter for this op.\n",
      "WARNING:tensorflow:Using a while_loop for converting RngReadAndSkip cause there is no registered converter for this op.\n",
      "WARNING:tensorflow:Using a while_loop for converting Bitcast cause there is no registered converter for this op.\n",
      "WARNING:tensorflow:Using a while_loop for converting Bitcast cause there is no registered converter for this op.\n",
      "WARNING:tensorflow:Using a while_loop for converting StatelessRandomUniformV2 cause there is no registered converter for this op.\n",
      "WARNING:tensorflow:Using a while_loop for converting ImageProjectiveTransformV3 cause there is no registered converter for this op.\n",
      "25/25 [==============================] - 20s 693ms/step - loss: 0.7670 - accuracy: 0.6667 - val_loss: 1.1683 - val_accuracy: 0.4745\n",
      "Epoch 2/10\n",
      "25/25 [==============================] - 18s 708ms/step - loss: 0.7549 - accuracy: 0.6578 - val_loss: 1.2974 - val_accuracy: 0.4796\n",
      "Epoch 3/10\n",
      "25/25 [==============================] - 17s 683ms/step - loss: 0.6978 - accuracy: 0.7023 - val_loss: 1.3959 - val_accuracy: 0.4541\n",
      "Epoch 4/10\n",
      "25/25 [==============================] - 17s 689ms/step - loss: 0.6726 - accuracy: 0.6997 - val_loss: 1.3187 - val_accuracy: 0.5051\n",
      "Epoch 5/10\n",
      "25/25 [==============================] - 17s 697ms/step - loss: 0.6594 - accuracy: 0.7239 - val_loss: 1.4569 - val_accuracy: 0.4745\n",
      "Epoch 6/10\n",
      "25/25 [==============================] - 18s 704ms/step - loss: 0.6332 - accuracy: 0.7290 - val_loss: 1.4434 - val_accuracy: 0.4847\n",
      "Epoch 7/10\n",
      "25/25 [==============================] - 17s 687ms/step - loss: 0.6125 - accuracy: 0.7188 - val_loss: 1.4709 - val_accuracy: 0.4898\n",
      "Epoch 8/10\n",
      "25/25 [==============================] - 17s 692ms/step - loss: 0.6246 - accuracy: 0.7201 - val_loss: 1.5520 - val_accuracy: 0.4541\n",
      "Epoch 9/10\n",
      "25/25 [==============================] - 17s 692ms/step - loss: 0.6074 - accuracy: 0.7341 - val_loss: 1.5852 - val_accuracy: 0.4745\n",
      "Epoch 10/10\n",
      "25/25 [==============================] - 17s 688ms/step - loss: 0.5506 - accuracy: 0.7659 - val_loss: 1.6177 - val_accuracy: 0.4337\n",
      "Nadam sparse_categorical_crossentropy\n",
      "WARNING:tensorflow:Using a while_loop for converting RngReadAndSkip cause there is no registered converter for this op.\n",
      "WARNING:tensorflow:Using a while_loop for converting Bitcast cause there is no registered converter for this op.\n",
      "WARNING:tensorflow:Using a while_loop for converting Bitcast cause there is no registered converter for this op.\n",
      "WARNING:tensorflow:Using a while_loop for converting StatelessRandomUniformV2 cause there is no registered converter for this op.\n",
      "WARNING:tensorflow:Using a while_loop for converting ImageProjectiveTransformV3 cause there is no registered converter for this op.\n",
      "WARNING:tensorflow:Using a while_loop for converting RngReadAndSkip cause there is no registered converter for this op.\n",
      "WARNING:tensorflow:Using a while_loop for converting Bitcast cause there is no registered converter for this op.\n",
      "WARNING:tensorflow:Using a while_loop for converting Bitcast cause there is no registered converter for this op.\n",
      "WARNING:tensorflow:Using a while_loop for converting StatelessRandomUniformV2 cause there is no registered converter for this op.\n",
      "WARNING:tensorflow:Using a while_loop for converting ImageProjectiveTransformV3 cause there is no registered converter for this op.\n",
      "Epoch 1/10\n",
      "WARNING:tensorflow:Using a while_loop for converting RngReadAndSkip cause there is no registered converter for this op.\n",
      "WARNING:tensorflow:Using a while_loop for converting Bitcast cause there is no registered converter for this op.\n",
      "WARNING:tensorflow:Using a while_loop for converting Bitcast cause there is no registered converter for this op.\n",
      "WARNING:tensorflow:Using a while_loop for converting StatelessRandomUniformV2 cause there is no registered converter for this op.\n",
      "WARNING:tensorflow:Using a while_loop for converting ImageProjectiveTransformV3 cause there is no registered converter for this op.\n",
      "WARNING:tensorflow:Using a while_loop for converting RngReadAndSkip cause there is no registered converter for this op.\n",
      "WARNING:tensorflow:Using a while_loop for converting Bitcast cause there is no registered converter for this op.\n",
      "WARNING:tensorflow:Using a while_loop for converting Bitcast cause there is no registered converter for this op.\n",
      "WARNING:tensorflow:Using a while_loop for converting StatelessRandomUniformV2 cause there is no registered converter for this op.\n",
      "WARNING:tensorflow:Using a while_loop for converting ImageProjectiveTransformV3 cause there is no registered converter for this op.\n",
      "WARNING:tensorflow:Using a while_loop for converting RngReadAndSkip cause there is no registered converter for this op.\n",
      "WARNING:tensorflow:Using a while_loop for converting Bitcast cause there is no registered converter for this op.\n",
      "WARNING:tensorflow:Using a while_loop for converting Bitcast cause there is no registered converter for this op.\n",
      "WARNING:tensorflow:Using a while_loop for converting StatelessRandomUniformV2 cause there is no registered converter for this op.\n",
      "WARNING:tensorflow:Using a while_loop for converting ImageProjectiveTransformV3 cause there is no registered converter for this op.\n"
     ]
    },
    {
     "name": "stdout",
     "output_type": "stream",
     "text": [
      "WARNING:tensorflow:Using a while_loop for converting RngReadAndSkip cause there is no registered converter for this op.\n",
      "WARNING:tensorflow:Using a while_loop for converting Bitcast cause there is no registered converter for this op.\n",
      "WARNING:tensorflow:Using a while_loop for converting Bitcast cause there is no registered converter for this op.\n",
      "WARNING:tensorflow:Using a while_loop for converting StatelessRandomUniformV2 cause there is no registered converter for this op.\n",
      "WARNING:tensorflow:Using a while_loop for converting ImageProjectiveTransformV3 cause there is no registered converter for this op.\n",
      "25/25 [==============================] - 23s 741ms/step - loss: 0.9839 - accuracy: 0.5382 - val_loss: 1.0564 - val_accuracy: 0.5204\n",
      "Epoch 2/10\n",
      "25/25 [==============================] - 19s 765ms/step - loss: 0.8904 - accuracy: 0.5878 - val_loss: 1.0695 - val_accuracy: 0.5357\n",
      "Epoch 3/10\n",
      "25/25 [==============================] - 24s 947ms/step - loss: 0.8357 - accuracy: 0.6132 - val_loss: 1.1188 - val_accuracy: 0.5051\n",
      "Epoch 4/10\n",
      "25/25 [==============================] - 22s 880ms/step - loss: 0.8067 - accuracy: 0.6272 - val_loss: 1.1873 - val_accuracy: 0.4337\n",
      "Epoch 5/10\n",
      "25/25 [==============================] - 21s 845ms/step - loss: 0.7563 - accuracy: 0.6692 - val_loss: 1.1882 - val_accuracy: 0.4643\n",
      "Epoch 6/10\n",
      "25/25 [==============================] - 21s 847ms/step - loss: 0.6883 - accuracy: 0.7023 - val_loss: 1.3645 - val_accuracy: 0.4541\n",
      "Epoch 7/10\n",
      "25/25 [==============================] - 20s 816ms/step - loss: 0.7047 - accuracy: 0.6972 - val_loss: 1.5844 - val_accuracy: 0.3724\n",
      "Epoch 8/10\n",
      "25/25 [==============================] - 20s 821ms/step - loss: 0.6829 - accuracy: 0.6947 - val_loss: 1.4269 - val_accuracy: 0.4592\n",
      "Epoch 9/10\n",
      "25/25 [==============================] - 20s 811ms/step - loss: 0.6394 - accuracy: 0.7290 - val_loss: 1.4408 - val_accuracy: 0.4388\n",
      "Epoch 10/10\n",
      "25/25 [==============================] - 20s 810ms/step - loss: 0.5702 - accuracy: 0.7519 - val_loss: 1.5497 - val_accuracy: 0.5051\n"
     ]
    }
   ],
   "source": [
    "models = {}\n",
    "epochs = 10\n",
    "\n",
    "\n",
    "for optimizer in OPTIMIZERS:\n",
    "    for loss_func in LOSS_FUNCS:\n",
    "        optimizer_name = str(optimizer).split(\".\")[-1].split(\" \")[0]\n",
    "        print(optimizer_name + \" \" + loss_func.name)\n",
    "\n",
    "        model = Sequential(sequential_layers)\n",
    "\n",
    "        model.compile(optimizer=optimizer,\n",
    "              loss=loss_func,\n",
    "              metrics=['accuracy'])\n",
    "        \n",
    "        history = model.fit(\n",
    "                          train_ds,\n",
    "                          validation_data=val_ds,\n",
    "                          epochs=epochs\n",
    "                            )\n",
    "        models[optimizer_name + \" \" + loss_func.name] = model\n",
    "        \n",
    "        del model\n",
    "        tf.keras.backend.clear_session()\n",
    "        "
   ]
  },
  {
   "cell_type": "code",
   "execution_count": 52,
   "metadata": {
    "collapsed": true
   },
   "outputs": [
    {
     "name": "stdout",
     "output_type": "stream",
     "text": [
      "Adam sparse_categorical_crossentropy\n",
      "7/7 [==============================] - 2s 193ms/step\n",
      "0.4809801153626819\n",
      "Nadam sparse_categorical_crossentropy\n",
      "7/7 [==============================] - 1s 156ms/step\n",
      "0.4809801153626819\n",
      "Adam sparse_categorical_crossentropy\n"
     ]
    }
   ],
   "source": [
    "def get_best_model_and_metrics():\n",
    "    prev = 0\n",
    "    best_model = None\n",
    "    \n",
    "    for model in models:\n",
    "        preds = tf.nn.softmax(models[model].predict(val_ds))\n",
    "        y_pred = np.argmax(preds, axis=1)\n",
    "        report = classification_report(val_labels, y_pred, target_names=class_names, output_dict=True)\n",
    "                \n",
    "        if report[\"weighted avg\"][\"f1-score\"] > prev:\n",
    "            prev = report[\"weighted avg\"][\"f1-score\"]\n",
    "            best_model = model\n",
    "            \n",
    "    return models[best_model], report"
   ]
  },
  {
   "cell_type": "code",
   "execution_count": 53,
   "metadata": {},
   "outputs": [
    {
     "name": "stdout",
     "output_type": "stream",
     "text": [
      "7/7 [==============================] - 1s 147ms/step\n"
     ]
    },
    {
     "data": {
      "text/html": [
       "<div>\n",
       "<style scoped>\n",
       "    .dataframe tbody tr th:only-of-type {\n",
       "        vertical-align: middle;\n",
       "    }\n",
       "\n",
       "    .dataframe tbody tr th {\n",
       "        vertical-align: top;\n",
       "    }\n",
       "\n",
       "    .dataframe thead th {\n",
       "        text-align: right;\n",
       "    }\n",
       "</style>\n",
       "<table border=\"1\" class=\"dataframe\">\n",
       "  <thead>\n",
       "    <tr style=\"text-align: right;\">\n",
       "      <th></th>\n",
       "      <th>precision</th>\n",
       "      <th>recall</th>\n",
       "      <th>f1-score</th>\n",
       "      <th>support</th>\n",
       "    </tr>\n",
       "  </thead>\n",
       "  <tbody>\n",
       "    <tr>\n",
       "      <th>Type_1</th>\n",
       "      <td>0.352941</td>\n",
       "      <td>0.142857</td>\n",
       "      <td>0.203390</td>\n",
       "      <td>42.000000</td>\n",
       "    </tr>\n",
       "    <tr>\n",
       "      <th>Type_2</th>\n",
       "      <td>0.540984</td>\n",
       "      <td>0.660000</td>\n",
       "      <td>0.594595</td>\n",
       "      <td>100.000000</td>\n",
       "    </tr>\n",
       "    <tr>\n",
       "      <th>Type_3</th>\n",
       "      <td>0.473684</td>\n",
       "      <td>0.500000</td>\n",
       "      <td>0.486486</td>\n",
       "      <td>54.000000</td>\n",
       "    </tr>\n",
       "    <tr>\n",
       "      <th>accuracy</th>\n",
       "      <td>0.505102</td>\n",
       "      <td>0.505102</td>\n",
       "      <td>0.505102</td>\n",
       "      <td>0.505102</td>\n",
       "    </tr>\n",
       "    <tr>\n",
       "      <th>macro avg</th>\n",
       "      <td>0.455870</td>\n",
       "      <td>0.434286</td>\n",
       "      <td>0.428157</td>\n",
       "      <td>196.000000</td>\n",
       "    </tr>\n",
       "    <tr>\n",
       "      <th>weighted avg</th>\n",
       "      <td>0.482147</td>\n",
       "      <td>0.505102</td>\n",
       "      <td>0.480980</td>\n",
       "      <td>196.000000</td>\n",
       "    </tr>\n",
       "  </tbody>\n",
       "</table>\n",
       "</div>"
      ],
      "text/plain": [
       "              precision    recall  f1-score     support\n",
       "Type_1         0.352941  0.142857  0.203390   42.000000\n",
       "Type_2         0.540984  0.660000  0.594595  100.000000\n",
       "Type_3         0.473684  0.500000  0.486486   54.000000\n",
       "accuracy       0.505102  0.505102  0.505102    0.505102\n",
       "macro avg      0.455870  0.434286  0.428157  196.000000\n",
       "weighted avg   0.482147  0.505102  0.480980  196.000000"
      ]
     },
     "execution_count": 53,
     "metadata": {},
     "output_type": "execute_result"
    }
   ],
   "source": [
    "\n",
    "# Получение лейблов по загруженному датасету\n",
    "val_labels = np.concatenate([y for x, y in val_ds], axis=0)\n",
    "\n",
    "# Демонстрация метрик\n",
    "preds = models[\"Adam sparse_categorical_crossentropy\"].predict(val_ds)\n",
    "preds = tf.nn.softmax(preds)\n",
    "\n",
    "y_pred = np.argmax(preds, axis=1)\n",
    "\n",
    "report1 = classification_report(val_labels, y_pred, target_names=class_names, output_dict=True)\n",
    "df1 = pd.DataFrame(report1).transpose()\n",
    "df1"
   ]
  },
  {
   "cell_type": "code",
   "execution_count": null,
   "metadata": {},
   "outputs": [],
   "source": []
  },
  {
   "cell_type": "code",
   "execution_count": 54,
   "metadata": {},
   "outputs": [
    {
     "data": {
      "image/png": "[encoded data removed]",
      "text/plain": [
       "<Figure size 864x864 with 2 Axes>"
      ]
     },
     "metadata": {
      "needs_background": "light"
     },
     "output_type": "display_data"
    }
   ],
   "source": [
    "# Создает матрицу неточностей, надо оформить в функцию передать:\n",
    "# y-pred - предсказания модели на тест выборке\n",
    "# labels - правильные ответы\n",
    "\n",
    "confusion_mtx = confusion_matrix(y_pred, val_labels)\n",
    "f,ax = plt.subplots(figsize=(12, 12))\n",
    "sns.heatmap(confusion_mtx, annot=True, \n",
    "            linewidths=0.01,\n",
    "            linecolor=\"white\", \n",
    "            fmt= '.1f',ax=ax,)\n",
    "sns.color_palette(\"rocket\", as_cmap=True)\n",
    "\n",
    "plt.xlabel(\"Predicted Label\")\n",
    "plt.ylabel(\"True Label\")\n",
    "ax.xaxis.set_ticklabels([0, 1, 2])\n",
    "ax.yaxis.set_ticklabels(class_names)\n",
    "plt.title(\"Confusion Matrix\")\n",
    "plt.show()"
   ]
  }
 ],
 "metadata": {
  "accelerator": "GPU",
  "colab": {
   "provenance": []
  },
  "gpuClass": "standard",
  "kernelspec": {
   "display_name": "Python 3 (ipykernel)",
   "language": "python",
   "name": "python3"
  },
  "language_info": {
   "codemirror_mode": {
    "name": "ipython",
    "version": 3
   },
   "file_extension": ".py",
   "mimetype": "text/x-python",
   "name": "python",
   "nbconvert_exporter": "python",
   "pygments_lexer": "ipython3",
   "version": "3.7.9"
  }
 },
 "nbformat": 4,
 "nbformat_minor": 1
}
